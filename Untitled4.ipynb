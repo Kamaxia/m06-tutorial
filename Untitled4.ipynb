{
 "cells": [
  {
   "cell_type": "code",
   "execution_count": 11,
   "id": "45aa3180-eddc-4ca3-b873-ce33df867b99",
   "metadata": {},
   "outputs": [
    {
     "name": "stdout",
     "output_type": "stream",
     "text": [
      "The day is $A, $B $d, $Y, and the current time is $I:$M:$S$p\n"
     ]
    }
   ],
   "source": [
    "import time\n",
    "fmt = \"The day is $A, $B $d, $Y, and the current time is $I:$M:$S$p\"\n",
    "todaysTime = time.localtime()\n",
    "today_string = time.strftime(fmt, todaysTime)\n",
    "file = open(\"today.txt\", \"w\")\n",
    "file.write(today_string)\n",
    "file.close()\n",
    "\n",
    "file = open(\"today.txt\")\n",
    "print(file.read())\n",
    "\n",
    "theDate = file.read()"
   ]
  },
  {
   "cell_type": "code",
   "execution_count": null,
   "id": "9c354220-283a-4ce3-b436-356c414c47f2",
   "metadata": {},
   "outputs": [],
   "source": [
    "import multiprocessing\n",
    "import os\n",
    "import time\n",
    "\n",
    "def theTime():\n",
    "    todaysTime = time.localtime()\n",
    "    print(todaysTime)\n",
    "        \n",
    "if __name__ == \"__main__\":\n",
    "    for n in range(4):\n",
    "        p = multiprocessing.Process(target=theTime)\n",
    "        p.start()\n",
    "        time.sleep(1)\n",
    "        p.terminate()     "
   ]
  },
  {
   "cell_type": "code",
   "execution_count": null,
   "id": "0bf26dd5-b129-4224-8f71-7cd15ff7c3a5",
   "metadata": {},
   "outputs": [],
   "source": []
  }
 ],
 "metadata": {
  "kernelspec": {
   "display_name": "Python 3 (ipykernel)",
   "language": "python",
   "name": "python3"
  },
  "language_info": {
   "codemirror_mode": {
    "name": "ipython",
    "version": 3
   },
   "file_extension": ".py",
   "mimetype": "text/x-python",
   "name": "python",
   "nbconvert_exporter": "python",
   "pygments_lexer": "ipython3",
   "version": "3.12.4"
  }
 },
 "nbformat": 4,
 "nbformat_minor": 5
}
